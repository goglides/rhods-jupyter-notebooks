{
 "cells": [
  {
   "cell_type": "code",
   "execution_count": 3,
   "id": "b490bd89-19b0-40e0-bf9e-641af917a873",
   "metadata": {},
   "outputs": [
    {
     "name": "stdout",
     "output_type": "stream",
     "text": [
      "1/1 [==============================] - 0s 71ms/step\n",
      "File: data/zero.JPG, Predicted Class: 0\n",
      "File: data/two.JPG, Predicted Class: 3\n",
      "File: data/one.JPG, Predicted Class: 3\n",
      "File: data/nine.JPG, Predicted Class: 3\n",
      "File: data/five.JPG, Predicted Class: 5\n",
      "File: data/4.JPG, Predicted Class: 4\n",
      "File: data/1.JPG, Predicted Class: 8\n",
      "File: data/5.JPG, Predicted Class: 5\n",
      "File: data/eight.JPG, Predicted Class: 8\n",
      "File: data/six.JPG, Predicted Class: 6\n",
      "File: data/three.JPG, Predicted Class: 3\n",
      "File: data/8.JPG, Predicted Class: 8\n",
      "File: data/2.JPG, Predicted Class: 3\n",
      "File: data/four.JPG, Predicted Class: 4\n",
      "File: data/7.JPG, Predicted Class: 3\n",
      "File: data/6.JPG, Predicted Class: 6\n",
      "File: data/3.JPG, Predicted Class: 3\n",
      "File: data/9.JPG, Predicted Class: 3\n",
      "File: data/0.JPG, Predicted Class: 0\n",
      "File: data/seven.JPG, Predicted Class: 3\n"
     ]
    }
   ],
   "source": [
    "import numpy as np\n",
    "from tensorflow.keras.preprocessing.image import load_img\n",
    "import glob\n",
    "from keras.models import load_model\n",
    "\n",
    "\n",
    "model = load_model('model/mnist_v2.h5')\n",
    "\n",
    "def preprocess_image(image_path):\n",
    "    img = load_img(image_path, target_size=(28, 28), color_mode=\"grayscale\")\n",
    "    img_array = np.array(img).reshape(-1, 28 * 28) \n",
    "    img_array = img_array.astype('float32') / 255.0\n",
    "    return img_array\n",
    "\n",
    "\n",
    "# Preprocess all the images\n",
    "image_files = glob.glob('data/*.JPG')  \n",
    "images = np.vstack([preprocess_image(img_file) for img_file in image_files])\n",
    "\n",
    "predictions = model.predict(images)\n",
    "predicted_classes = np.argmax(predictions, axis=1)\n",
    "\n",
    "# Print the filename and corresponding predicted class for each image\n",
    "for img_file, pred_class in zip(image_files, predicted_classes):\n",
    "    print(f\"File: {img_file}, Predicted Class: {pred_class}\")"
   ]
  },
  {
   "cell_type": "code",
   "execution_count": null,
   "id": "28548bd1-36f8-4861-8277-900c56fc3d23",
   "metadata": {},
   "outputs": [],
   "source": []
  }
 ],
 "metadata": {
  "kernelspec": {
   "display_name": "Python 3.9.16",
   "language": "python",
   "name": "python3"
  },
  "language_info": {
   "codemirror_mode": {
    "name": "ipython",
    "version": 3
   },
   "file_extension": ".py",
   "mimetype": "text/x-python",
   "name": "python",
   "nbconvert_exporter": "python",
   "pygments_lexer": "ipython3",
   "version": "3.9.16"
  }
 },
 "nbformat": 4,
 "nbformat_minor": 5
}
